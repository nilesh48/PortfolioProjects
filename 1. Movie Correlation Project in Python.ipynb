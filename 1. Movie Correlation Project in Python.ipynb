{
 "cells": [
  {
   "cell_type": "markdown",
   "metadata": {
    "id": "JzP5Tr2otLea"
   },
   "source": [
    "# **Movie Correlation Project in Python**\n",
    "\n",
    "**Project Dataset:** https://www.kaggle.com/danielgrijalvas/movies?select=movies.csv"
   ]
  },
  {
   "cell_type": "markdown",
   "metadata": {
    "id": "P67tChKq2ShB"
   },
   "source": [
    "# **00. Import Python Libraries & Read in Data using Pandas -**"
   ]
  },
  {
   "cell_type": "code",
   "execution_count": 1,
   "metadata": {
    "executionInfo": {
     "elapsed": 1492,
     "status": "ok",
     "timestamp": 1645309225568,
     "user": {
      "displayName": "Simple World",
      "photoUrl": "https://lh3.googleusercontent.com/a-/AOh14GgiL5YAcNU3s17zKIZwsnXS23modtXA6kMjJ2q5=s64",
      "userId": "00442976011821015238"
     },
     "user_tz": -330
    },
    "id": "X-NdZwXYSny5"
   },
   "outputs": [],
   "source": [
    "# import libraries\n",
    "\n",
    "import pandas as pd\n",
    "import seaborn as sns\n",
    "import numpy as np\n",
    "\n",
    "import matplotlib\n",
    "import matplotlib.pyplot as plt\n",
    "plt.style.use('ggplot')\n",
    "from matplotlib.pyplot import figure\n",
    "\n",
    "%matplotlib inline\n",
    "matplotlib.rcParams['figure.figsize'] = (12,8)    # Adjusts the configuration of the plots we will create\n",
    "\n",
    "# Read in the data\n",
    "\n",
    "df = pd.read_csv(r'C:\\learning python\\5. Projects\\movies.csv')"
   ]
  },
  {
   "cell_type": "code",
   "execution_count": 2,
   "metadata": {
    "colab": {
     "base_uri": "https://localhost:8080/",
     "height": 337
    },
    "executionInfo": {
     "elapsed": 23,
     "status": "ok",
     "timestamp": 1645309225569,
     "user": {
      "displayName": "Simple World",
      "photoUrl": "https://lh3.googleusercontent.com/a-/AOh14GgiL5YAcNU3s17zKIZwsnXS23modtXA6kMjJ2q5=s64",
      "userId": "00442976011821015238"
     },
     "user_tz": -330
    },
    "id": "FVyDW0VRvVtI",
    "outputId": "527087e9-95fd-4311-ccc4-bdc31b947727"
   },
   "outputs": [
    {
     "data": {
      "text/html": [
       "<div>\n",
       "<style scoped>\n",
       "    .dataframe tbody tr th:only-of-type {\n",
       "        vertical-align: middle;\n",
       "    }\n",
       "\n",
       "    .dataframe tbody tr th {\n",
       "        vertical-align: top;\n",
       "    }\n",
       "\n",
       "    .dataframe thead th {\n",
       "        text-align: right;\n",
       "    }\n",
       "</style>\n",
       "<table border=\"1\" class=\"dataframe\">\n",
       "  <thead>\n",
       "    <tr style=\"text-align: right;\">\n",
       "      <th></th>\n",
       "      <th>name</th>\n",
       "      <th>rating</th>\n",
       "      <th>genre</th>\n",
       "      <th>year</th>\n",
       "      <th>released</th>\n",
       "      <th>score</th>\n",
       "      <th>votes</th>\n",
       "      <th>director</th>\n",
       "      <th>writer</th>\n",
       "      <th>star</th>\n",
       "      <th>country</th>\n",
       "      <th>budget</th>\n",
       "      <th>gross</th>\n",
       "      <th>company</th>\n",
       "      <th>runtime</th>\n",
       "    </tr>\n",
       "  </thead>\n",
       "  <tbody>\n",
       "    <tr>\n",
       "      <th>0</th>\n",
       "      <td>The Shining</td>\n",
       "      <td>R</td>\n",
       "      <td>Drama</td>\n",
       "      <td>1980</td>\n",
       "      <td>June 13, 1980 (United States)</td>\n",
       "      <td>8.4</td>\n",
       "      <td>927000.0</td>\n",
       "      <td>Stanley Kubrick</td>\n",
       "      <td>Stephen King</td>\n",
       "      <td>Jack Nicholson</td>\n",
       "      <td>United Kingdom</td>\n",
       "      <td>19000000.0</td>\n",
       "      <td>46998772.0</td>\n",
       "      <td>Warner Bros.</td>\n",
       "      <td>146.0</td>\n",
       "    </tr>\n",
       "    <tr>\n",
       "      <th>1</th>\n",
       "      <td>The Blue Lagoon</td>\n",
       "      <td>R</td>\n",
       "      <td>Adventure</td>\n",
       "      <td>1980</td>\n",
       "      <td>July 2, 1980 (United States)</td>\n",
       "      <td>5.8</td>\n",
       "      <td>65000.0</td>\n",
       "      <td>Randal Kleiser</td>\n",
       "      <td>Henry De Vere Stacpoole</td>\n",
       "      <td>Brooke Shields</td>\n",
       "      <td>United States</td>\n",
       "      <td>4500000.0</td>\n",
       "      <td>58853106.0</td>\n",
       "      <td>Columbia Pictures</td>\n",
       "      <td>104.0</td>\n",
       "    </tr>\n",
       "    <tr>\n",
       "      <th>2</th>\n",
       "      <td>Star Wars: Episode V - The Empire Strikes Back</td>\n",
       "      <td>PG</td>\n",
       "      <td>Action</td>\n",
       "      <td>1980</td>\n",
       "      <td>June 20, 1980 (United States)</td>\n",
       "      <td>8.7</td>\n",
       "      <td>1200000.0</td>\n",
       "      <td>Irvin Kershner</td>\n",
       "      <td>Leigh Brackett</td>\n",
       "      <td>Mark Hamill</td>\n",
       "      <td>United States</td>\n",
       "      <td>18000000.0</td>\n",
       "      <td>538375067.0</td>\n",
       "      <td>Lucasfilm</td>\n",
       "      <td>124.0</td>\n",
       "    </tr>\n",
       "    <tr>\n",
       "      <th>3</th>\n",
       "      <td>Airplane!</td>\n",
       "      <td>PG</td>\n",
       "      <td>Comedy</td>\n",
       "      <td>1980</td>\n",
       "      <td>July 2, 1980 (United States)</td>\n",
       "      <td>7.7</td>\n",
       "      <td>221000.0</td>\n",
       "      <td>Jim Abrahams</td>\n",
       "      <td>Jim Abrahams</td>\n",
       "      <td>Robert Hays</td>\n",
       "      <td>United States</td>\n",
       "      <td>3500000.0</td>\n",
       "      <td>83453539.0</td>\n",
       "      <td>Paramount Pictures</td>\n",
       "      <td>88.0</td>\n",
       "    </tr>\n",
       "    <tr>\n",
       "      <th>4</th>\n",
       "      <td>Caddyshack</td>\n",
       "      <td>R</td>\n",
       "      <td>Comedy</td>\n",
       "      <td>1980</td>\n",
       "      <td>July 25, 1980 (United States)</td>\n",
       "      <td>7.3</td>\n",
       "      <td>108000.0</td>\n",
       "      <td>Harold Ramis</td>\n",
       "      <td>Brian Doyle-Murray</td>\n",
       "      <td>Chevy Chase</td>\n",
       "      <td>United States</td>\n",
       "      <td>6000000.0</td>\n",
       "      <td>39846344.0</td>\n",
       "      <td>Orion Pictures</td>\n",
       "      <td>98.0</td>\n",
       "    </tr>\n",
       "  </tbody>\n",
       "</table>\n",
       "</div>"
      ],
      "text/plain": [
       "                                             name rating      genre  year  \\\n",
       "0                                     The Shining      R      Drama  1980   \n",
       "1                                 The Blue Lagoon      R  Adventure  1980   \n",
       "2  Star Wars: Episode V - The Empire Strikes Back     PG     Action  1980   \n",
       "3                                       Airplane!     PG     Comedy  1980   \n",
       "4                                      Caddyshack      R     Comedy  1980   \n",
       "\n",
       "                        released  score      votes         director  \\\n",
       "0  June 13, 1980 (United States)    8.4   927000.0  Stanley Kubrick   \n",
       "1   July 2, 1980 (United States)    5.8    65000.0   Randal Kleiser   \n",
       "2  June 20, 1980 (United States)    8.7  1200000.0   Irvin Kershner   \n",
       "3   July 2, 1980 (United States)    7.7   221000.0     Jim Abrahams   \n",
       "4  July 25, 1980 (United States)    7.3   108000.0     Harold Ramis   \n",
       "\n",
       "                    writer            star         country      budget  \\\n",
       "0             Stephen King  Jack Nicholson  United Kingdom  19000000.0   \n",
       "1  Henry De Vere Stacpoole  Brooke Shields   United States   4500000.0   \n",
       "2           Leigh Brackett     Mark Hamill   United States  18000000.0   \n",
       "3             Jim Abrahams     Robert Hays   United States   3500000.0   \n",
       "4       Brian Doyle-Murray     Chevy Chase   United States   6000000.0   \n",
       "\n",
       "         gross             company  runtime  \n",
       "0   46998772.0        Warner Bros.    146.0  \n",
       "1   58853106.0   Columbia Pictures    104.0  \n",
       "2  538375067.0           Lucasfilm    124.0  \n",
       "3   83453539.0  Paramount Pictures     88.0  \n",
       "4   39846344.0      Orion Pictures     98.0  "
      ]
     },
     "execution_count": 2,
     "metadata": {},
     "output_type": "execute_result"
    }
   ],
   "source": [
    "# let's look at the data\n",
    "\n",
    "df.head()"
   ]
  },
  {
   "cell_type": "code",
   "execution_count": null,
   "metadata": {
    "executionInfo": {
     "elapsed": 22,
     "status": "ok",
     "timestamp": 1645309225570,
     "user": {
      "displayName": "Simple World",
      "photoUrl": "https://lh3.googleusercontent.com/a-/AOh14GgiL5YAcNU3s17zKIZwsnXS23modtXA6kMjJ2q5=s64",
      "userId": "00442976011821015238"
     },
     "user_tz": -330
    },
    "id": "p2DgzJa7xWNv"
   },
   "outputs": [],
   "source": []
  },
  {
   "cell_type": "markdown",
   "metadata": {
    "id": "Ta3sEe-CxjhE"
   },
   "source": [
    "# **01. Data Cleaning -**"
   ]
  },
  {
   "cell_type": "code",
   "execution_count": 3,
   "metadata": {
    "colab": {
     "base_uri": "https://localhost:8080/"
    },
    "executionInfo": {
     "elapsed": 23,
     "status": "ok",
     "timestamp": 1645309225571,
     "user": {
      "displayName": "Simple World",
      "photoUrl": "https://lh3.googleusercontent.com/a-/AOh14GgiL5YAcNU3s17zKIZwsnXS23modtXA6kMjJ2q5=s64",
      "userId": "00442976011821015238"
     },
     "user_tz": -330
    },
    "id": "DMybUnQRxlRD",
    "outputId": "32a8f0f8-3444-4613-f9b7-8aa4cfb26ca6"
   },
   "outputs": [
    {
     "name": "stdout",
     "output_type": "stream",
     "text": [
      "name   -   0.0%\n",
      "rating   -   1.0%\n",
      "genre   -   0.0%\n",
      "year   -   0.0%\n",
      "released   -   0.03%\n",
      "score   -   0.04%\n",
      "votes   -   0.04%\n",
      "director   -   0.0%\n",
      "writer   -   0.04%\n",
      "star   -   0.01%\n",
      "country   -   0.04%\n",
      "budget   -   28.31%\n",
      "gross   -   2.46%\n",
      "company   -   0.22%\n",
      "runtime   -   0.05%\n"
     ]
    }
   ],
   "source": [
    "# Let's see if there is any missing data\n",
    "\n",
    "for col in df.columns:\n",
    "  pct_missing = np.mean(df[col].isnull()*100)\n",
    "  pct_missing = round(pct_missing, 2)\n",
    "  print('{}   -   {}%'.format(col, pct_missing))"
   ]
  },
  {
   "cell_type": "code",
   "execution_count": 4,
   "metadata": {
    "colab": {
     "base_uri": "https://localhost:8080/"
    },
    "executionInfo": {
     "elapsed": 21,
     "status": "ok",
     "timestamp": 1645309225571,
     "user": {
      "displayName": "Simple World",
      "photoUrl": "https://lh3.googleusercontent.com/a-/AOh14GgiL5YAcNU3s17zKIZwsnXS23modtXA6kMjJ2q5=s64",
      "userId": "00442976011821015238"
     },
     "user_tz": -330
    },
    "id": "5bo44npdp_zD",
    "outputId": "0bc26c53-3917-4727-86a6-f40fe18ee4d3"
   },
   "outputs": [
    {
     "data": {
      "text/plain": [
       "name           0\n",
       "rating        77\n",
       "genre          0\n",
       "year           0\n",
       "released       2\n",
       "score          3\n",
       "votes          3\n",
       "director       0\n",
       "writer         3\n",
       "star           1\n",
       "country        3\n",
       "budget      2171\n",
       "gross        189\n",
       "company       17\n",
       "runtime        4\n",
       "dtype: int64"
      ]
     },
     "execution_count": 4,
     "metadata": {},
     "output_type": "execute_result"
    }
   ],
   "source": [
    "df.isnull().sum()"
   ]
  },
  {
   "cell_type": "code",
   "execution_count": 5,
   "metadata": {
    "executionInfo": {
     "elapsed": 20,
     "status": "ok",
     "timestamp": 1645309225571,
     "user": {
      "displayName": "Simple World",
      "photoUrl": "https://lh3.googleusercontent.com/a-/AOh14GgiL5YAcNU3s17zKIZwsnXS23modtXA6kMjJ2q5=s64",
      "userId": "00442976011821015238"
     },
     "user_tz": -330
    },
    "id": "-Li0EcVfl8xS"
   },
   "outputs": [],
   "source": [
    "# Remove data with NaN rather than imputation as in my opinion this case is Missing Completely At Random (MCAR), we have large enough dataset\n",
    "\n",
    "df.dropna(subset = ['rating','released','score','votes','writer','star','country','budget','gross','company','runtime'], inplace = True)\n"
   ]
  },
  {
   "cell_type": "code",
   "execution_count": 6,
   "metadata": {
    "colab": {
     "base_uri": "https://localhost:8080/"
    },
    "executionInfo": {
     "elapsed": 21,
     "status": "ok",
     "timestamp": 1645309225572,
     "user": {
      "displayName": "Simple World",
      "photoUrl": "https://lh3.googleusercontent.com/a-/AOh14GgiL5YAcNU3s17zKIZwsnXS23modtXA6kMjJ2q5=s64",
      "userId": "00442976011821015238"
     },
     "user_tz": -330
    },
    "id": "TXQhbBd4q5Pc",
    "outputId": "d35b8c07-74a7-426e-861e-da1a4774a42c"
   },
   "outputs": [
    {
     "data": {
      "text/plain": [
       "name        0\n",
       "rating      0\n",
       "genre       0\n",
       "year        0\n",
       "released    0\n",
       "score       0\n",
       "votes       0\n",
       "director    0\n",
       "writer      0\n",
       "star        0\n",
       "country     0\n",
       "budget      0\n",
       "gross       0\n",
       "company     0\n",
       "runtime     0\n",
       "dtype: int64"
      ]
     },
     "execution_count": 6,
     "metadata": {},
     "output_type": "execute_result"
    }
   ],
   "source": [
    "df.isnull().sum()"
   ]
  },
  {
   "cell_type": "code",
   "execution_count": null,
   "metadata": {
    "executionInfo": {
     "elapsed": 19,
     "status": "ok",
     "timestamp": 1645309225572,
     "user": {
      "displayName": "Simple World",
      "photoUrl": "https://lh3.googleusercontent.com/a-/AOh14GgiL5YAcNU3s17zKIZwsnXS23modtXA6kMjJ2q5=s64",
      "userId": "00442976011821015238"
     },
     "user_tz": -330
    },
    "id": "OIEnVb7bCp0r"
   },
   "outputs": [],
   "source": []
  },
  {
   "cell_type": "code",
   "execution_count": 7,
   "metadata": {
    "colab": {
     "base_uri": "https://localhost:8080/"
    },
    "executionInfo": {
     "elapsed": 20,
     "status": "ok",
     "timestamp": 1645309225573,
     "user": {
      "displayName": "Simple World",
      "photoUrl": "https://lh3.googleusercontent.com/a-/AOh14GgiL5YAcNU3s17zKIZwsnXS23modtXA6kMjJ2q5=s64",
      "userId": "00442976011821015238"
     },
     "user_tz": -330
    },
    "id": "eB1bJZsE2YJj",
    "outputId": "48b2d229-c2c8-420c-f345-fc335250544d"
   },
   "outputs": [
    {
     "data": {
      "text/plain": [
       "name         object\n",
       "rating       object\n",
       "genre        object\n",
       "year          int64\n",
       "released     object\n",
       "score       float64\n",
       "votes       float64\n",
       "director     object\n",
       "writer       object\n",
       "star         object\n",
       "country      object\n",
       "budget      float64\n",
       "gross       float64\n",
       "company      object\n",
       "runtime     float64\n",
       "dtype: object"
      ]
     },
     "execution_count": 7,
     "metadata": {},
     "output_type": "execute_result"
    }
   ],
   "source": [
    "# Data types for our columns\n",
    "\n",
    "df.dtypes"
   ]
  },
  {
   "cell_type": "code",
   "execution_count": 8,
   "metadata": {
    "colab": {
     "base_uri": "https://localhost:8080/",
     "height": 190
    },
    "executionInfo": {
     "elapsed": 19,
     "status": "ok",
     "timestamp": 1645309225573,
     "user": {
      "displayName": "Simple World",
      "photoUrl": "https://lh3.googleusercontent.com/a-/AOh14GgiL5YAcNU3s17zKIZwsnXS23modtXA6kMjJ2q5=s64",
      "userId": "00442976011821015238"
     },
     "user_tz": -330
    },
    "id": "Jzhe5Ac4rc3L",
    "outputId": "273612cd-760c-4d0e-e533-41ffd486a509"
   },
   "outputs": [
    {
     "data": {
      "text/html": [
       "<div>\n",
       "<style scoped>\n",
       "    .dataframe tbody tr th:only-of-type {\n",
       "        vertical-align: middle;\n",
       "    }\n",
       "\n",
       "    .dataframe tbody tr th {\n",
       "        vertical-align: top;\n",
       "    }\n",
       "\n",
       "    .dataframe thead th {\n",
       "        text-align: right;\n",
       "    }\n",
       "</style>\n",
       "<table border=\"1\" class=\"dataframe\">\n",
       "  <thead>\n",
       "    <tr style=\"text-align: right;\">\n",
       "      <th></th>\n",
       "      <th>name</th>\n",
       "      <th>rating</th>\n",
       "      <th>genre</th>\n",
       "      <th>year</th>\n",
       "      <th>released</th>\n",
       "      <th>score</th>\n",
       "      <th>votes</th>\n",
       "      <th>director</th>\n",
       "      <th>writer</th>\n",
       "      <th>star</th>\n",
       "      <th>country</th>\n",
       "      <th>budget</th>\n",
       "      <th>gross</th>\n",
       "      <th>company</th>\n",
       "      <th>runtime</th>\n",
       "    </tr>\n",
       "  </thead>\n",
       "  <tbody>\n",
       "    <tr>\n",
       "      <th>0</th>\n",
       "      <td>The Shining</td>\n",
       "      <td>R</td>\n",
       "      <td>Drama</td>\n",
       "      <td>1980</td>\n",
       "      <td>June 13, 1980 (United States)</td>\n",
       "      <td>8.4</td>\n",
       "      <td>927000.0</td>\n",
       "      <td>Stanley Kubrick</td>\n",
       "      <td>Stephen King</td>\n",
       "      <td>Jack Nicholson</td>\n",
       "      <td>United Kingdom</td>\n",
       "      <td>19000000.0</td>\n",
       "      <td>46998772.0</td>\n",
       "      <td>Warner Bros.</td>\n",
       "      <td>146.0</td>\n",
       "    </tr>\n",
       "    <tr>\n",
       "      <th>1</th>\n",
       "      <td>The Blue Lagoon</td>\n",
       "      <td>R</td>\n",
       "      <td>Adventure</td>\n",
       "      <td>1980</td>\n",
       "      <td>July 2, 1980 (United States)</td>\n",
       "      <td>5.8</td>\n",
       "      <td>65000.0</td>\n",
       "      <td>Randal Kleiser</td>\n",
       "      <td>Henry De Vere Stacpoole</td>\n",
       "      <td>Brooke Shields</td>\n",
       "      <td>United States</td>\n",
       "      <td>4500000.0</td>\n",
       "      <td>58853106.0</td>\n",
       "      <td>Columbia Pictures</td>\n",
       "      <td>104.0</td>\n",
       "    </tr>\n",
       "  </tbody>\n",
       "</table>\n",
       "</div>"
      ],
      "text/plain": [
       "              name rating      genre  year                       released  \\\n",
       "0      The Shining      R      Drama  1980  June 13, 1980 (United States)   \n",
       "1  The Blue Lagoon      R  Adventure  1980   July 2, 1980 (United States)   \n",
       "\n",
       "   score     votes         director                   writer            star  \\\n",
       "0    8.4  927000.0  Stanley Kubrick             Stephen King  Jack Nicholson   \n",
       "1    5.8   65000.0   Randal Kleiser  Henry De Vere Stacpoole  Brooke Shields   \n",
       "\n",
       "          country      budget       gross            company  runtime  \n",
       "0  United Kingdom  19000000.0  46998772.0       Warner Bros.    146.0  \n",
       "1   United States   4500000.0  58853106.0  Columbia Pictures    104.0  "
      ]
     },
     "execution_count": 8,
     "metadata": {},
     "output_type": "execute_result"
    }
   ],
   "source": [
    "df.head(2)"
   ]
  },
  {
   "cell_type": "code",
   "execution_count": 9,
   "metadata": {
    "executionInfo": {
     "elapsed": 18,
     "status": "ok",
     "timestamp": 1645309225573,
     "user": {
      "displayName": "Simple World",
      "photoUrl": "https://lh3.googleusercontent.com/a-/AOh14GgiL5YAcNU3s17zKIZwsnXS23modtXA6kMjJ2q5=s64",
      "userId": "00442976011821015238"
     },
     "user_tz": -330
    },
    "id": "2IgtqIV57JQz"
   },
   "outputs": [],
   "source": [
    "# Changing the data type (vote,budget,gross,runtime) unnecessory decimal points\n",
    "\n",
    "df['votes'] = df['votes'].astype('int64')\n",
    "df['budget'] = df['budget'].astype('int64')\n",
    "df['gross'] = df['gross'].astype('int64')\n",
    "df['runtime'] = df['runtime'].astype('int64')"
   ]
  },
  {
   "cell_type": "code",
   "execution_count": 10,
   "metadata": {
    "colab": {
     "base_uri": "https://localhost:8080/",
     "height": 190
    },
    "executionInfo": {
     "elapsed": 19,
     "status": "ok",
     "timestamp": 1645309225574,
     "user": {
      "displayName": "Simple World",
      "photoUrl": "https://lh3.googleusercontent.com/a-/AOh14GgiL5YAcNU3s17zKIZwsnXS23modtXA6kMjJ2q5=s64",
      "userId": "00442976011821015238"
     },
     "user_tz": -330
    },
    "id": "w6Rxj_SgluaK",
    "outputId": "27dcef15-1054-489f-f438-479139043f87"
   },
   "outputs": [
    {
     "data": {
      "text/html": [
       "<div>\n",
       "<style scoped>\n",
       "    .dataframe tbody tr th:only-of-type {\n",
       "        vertical-align: middle;\n",
       "    }\n",
       "\n",
       "    .dataframe tbody tr th {\n",
       "        vertical-align: top;\n",
       "    }\n",
       "\n",
       "    .dataframe thead th {\n",
       "        text-align: right;\n",
       "    }\n",
       "</style>\n",
       "<table border=\"1\" class=\"dataframe\">\n",
       "  <thead>\n",
       "    <tr style=\"text-align: right;\">\n",
       "      <th></th>\n",
       "      <th>name</th>\n",
       "      <th>rating</th>\n",
       "      <th>genre</th>\n",
       "      <th>year</th>\n",
       "      <th>released</th>\n",
       "      <th>score</th>\n",
       "      <th>votes</th>\n",
       "      <th>director</th>\n",
       "      <th>writer</th>\n",
       "      <th>star</th>\n",
       "      <th>country</th>\n",
       "      <th>budget</th>\n",
       "      <th>gross</th>\n",
       "      <th>company</th>\n",
       "      <th>runtime</th>\n",
       "    </tr>\n",
       "  </thead>\n",
       "  <tbody>\n",
       "    <tr>\n",
       "      <th>0</th>\n",
       "      <td>The Shining</td>\n",
       "      <td>R</td>\n",
       "      <td>Drama</td>\n",
       "      <td>1980</td>\n",
       "      <td>June 13, 1980 (United States)</td>\n",
       "      <td>8.4</td>\n",
       "      <td>927000</td>\n",
       "      <td>Stanley Kubrick</td>\n",
       "      <td>Stephen King</td>\n",
       "      <td>Jack Nicholson</td>\n",
       "      <td>United Kingdom</td>\n",
       "      <td>19000000</td>\n",
       "      <td>46998772</td>\n",
       "      <td>Warner Bros.</td>\n",
       "      <td>146</td>\n",
       "    </tr>\n",
       "    <tr>\n",
       "      <th>1</th>\n",
       "      <td>The Blue Lagoon</td>\n",
       "      <td>R</td>\n",
       "      <td>Adventure</td>\n",
       "      <td>1980</td>\n",
       "      <td>July 2, 1980 (United States)</td>\n",
       "      <td>5.8</td>\n",
       "      <td>65000</td>\n",
       "      <td>Randal Kleiser</td>\n",
       "      <td>Henry De Vere Stacpoole</td>\n",
       "      <td>Brooke Shields</td>\n",
       "      <td>United States</td>\n",
       "      <td>4500000</td>\n",
       "      <td>58853106</td>\n",
       "      <td>Columbia Pictures</td>\n",
       "      <td>104</td>\n",
       "    </tr>\n",
       "  </tbody>\n",
       "</table>\n",
       "</div>"
      ],
      "text/plain": [
       "              name rating      genre  year                       released  \\\n",
       "0      The Shining      R      Drama  1980  June 13, 1980 (United States)   \n",
       "1  The Blue Lagoon      R  Adventure  1980   July 2, 1980 (United States)   \n",
       "\n",
       "   score   votes         director                   writer            star  \\\n",
       "0    8.4  927000  Stanley Kubrick             Stephen King  Jack Nicholson   \n",
       "1    5.8   65000   Randal Kleiser  Henry De Vere Stacpoole  Brooke Shields   \n",
       "\n",
       "          country    budget     gross            company  runtime  \n",
       "0  United Kingdom  19000000  46998772       Warner Bros.      146  \n",
       "1   United States   4500000  58853106  Columbia Pictures      104  "
      ]
     },
     "execution_count": 10,
     "metadata": {},
     "output_type": "execute_result"
    }
   ],
   "source": [
    "df.head(2)"
   ]
  },
  {
   "cell_type": "code",
   "execution_count": null,
   "metadata": {
    "executionInfo": {
     "elapsed": 18,
     "status": "ok",
     "timestamp": 1645309225574,
     "user": {
      "displayName": "Simple World",
      "photoUrl": "https://lh3.googleusercontent.com/a-/AOh14GgiL5YAcNU3s17zKIZwsnXS23modtXA6kMjJ2q5=s64",
      "userId": "00442976011821015238"
     },
     "user_tz": -330
    },
    "id": "9HYYNEvzCj9J"
   },
   "outputs": [],
   "source": []
  },
  {
   "cell_type": "code",
   "execution_count": 11,
   "metadata": {
    "colab": {
     "base_uri": "https://localhost:8080/",
     "height": 337
    },
    "executionInfo": {
     "elapsed": 426,
     "status": "ok",
     "timestamp": 1645309225982,
     "user": {
      "displayName": "Simple World",
      "photoUrl": "https://lh3.googleusercontent.com/a-/AOh14GgiL5YAcNU3s17zKIZwsnXS23modtXA6kMjJ2q5=s64",
      "userId": "00442976011821015238"
     },
     "user_tz": -330
    },
    "id": "maPR6FfjwELA",
    "outputId": "b2ea9b6a-8697-4478-993a-949428d2baeb"
   },
   "outputs": [
    {
     "data": {
      "text/html": [
       "<div>\n",
       "<style scoped>\n",
       "    .dataframe tbody tr th:only-of-type {\n",
       "        vertical-align: middle;\n",
       "    }\n",
       "\n",
       "    .dataframe tbody tr th {\n",
       "        vertical-align: top;\n",
       "    }\n",
       "\n",
       "    .dataframe thead th {\n",
       "        text-align: right;\n",
       "    }\n",
       "</style>\n",
       "<table border=\"1\" class=\"dataframe\">\n",
       "  <thead>\n",
       "    <tr style=\"text-align: right;\">\n",
       "      <th></th>\n",
       "      <th>name</th>\n",
       "      <th>rating</th>\n",
       "      <th>genre</th>\n",
       "      <th>year</th>\n",
       "      <th>released</th>\n",
       "      <th>score</th>\n",
       "      <th>votes</th>\n",
       "      <th>director</th>\n",
       "      <th>writer</th>\n",
       "      <th>star</th>\n",
       "      <th>country</th>\n",
       "      <th>budget</th>\n",
       "      <th>gross</th>\n",
       "      <th>company</th>\n",
       "      <th>runtime</th>\n",
       "    </tr>\n",
       "  </thead>\n",
       "  <tbody>\n",
       "    <tr>\n",
       "      <th>5445</th>\n",
       "      <td>Avatar</td>\n",
       "      <td>PG-13</td>\n",
       "      <td>Action</td>\n",
       "      <td>2009</td>\n",
       "      <td>December 18, 2009 (United States)</td>\n",
       "      <td>7.8</td>\n",
       "      <td>1100000</td>\n",
       "      <td>James Cameron</td>\n",
       "      <td>James Cameron</td>\n",
       "      <td>Sam Worthington</td>\n",
       "      <td>United States</td>\n",
       "      <td>237000000</td>\n",
       "      <td>2847246203</td>\n",
       "      <td>Twentieth Century Fox</td>\n",
       "      <td>162</td>\n",
       "    </tr>\n",
       "    <tr>\n",
       "      <th>7445</th>\n",
       "      <td>Avengers: Endgame</td>\n",
       "      <td>PG-13</td>\n",
       "      <td>Action</td>\n",
       "      <td>2019</td>\n",
       "      <td>April 26, 2019 (United States)</td>\n",
       "      <td>8.4</td>\n",
       "      <td>903000</td>\n",
       "      <td>Anthony Russo</td>\n",
       "      <td>Christopher Markus</td>\n",
       "      <td>Robert Downey Jr.</td>\n",
       "      <td>United States</td>\n",
       "      <td>356000000</td>\n",
       "      <td>2797501328</td>\n",
       "      <td>Marvel Studios</td>\n",
       "      <td>181</td>\n",
       "    </tr>\n",
       "    <tr>\n",
       "      <th>3045</th>\n",
       "      <td>Titanic</td>\n",
       "      <td>PG-13</td>\n",
       "      <td>Drama</td>\n",
       "      <td>1997</td>\n",
       "      <td>December 19, 1997 (United States)</td>\n",
       "      <td>7.8</td>\n",
       "      <td>1100000</td>\n",
       "      <td>James Cameron</td>\n",
       "      <td>James Cameron</td>\n",
       "      <td>Leonardo DiCaprio</td>\n",
       "      <td>United States</td>\n",
       "      <td>200000000</td>\n",
       "      <td>2201647264</td>\n",
       "      <td>Twentieth Century Fox</td>\n",
       "      <td>194</td>\n",
       "    </tr>\n",
       "    <tr>\n",
       "      <th>6663</th>\n",
       "      <td>Star Wars: Episode VII - The Force Awakens</td>\n",
       "      <td>PG-13</td>\n",
       "      <td>Action</td>\n",
       "      <td>2015</td>\n",
       "      <td>December 18, 2015 (United States)</td>\n",
       "      <td>7.8</td>\n",
       "      <td>876000</td>\n",
       "      <td>J.J. Abrams</td>\n",
       "      <td>Lawrence Kasdan</td>\n",
       "      <td>Daisy Ridley</td>\n",
       "      <td>United States</td>\n",
       "      <td>245000000</td>\n",
       "      <td>2069521700</td>\n",
       "      <td>Lucasfilm</td>\n",
       "      <td>138</td>\n",
       "    </tr>\n",
       "    <tr>\n",
       "      <th>7244</th>\n",
       "      <td>Avengers: Infinity War</td>\n",
       "      <td>PG-13</td>\n",
       "      <td>Action</td>\n",
       "      <td>2018</td>\n",
       "      <td>April 27, 2018 (United States)</td>\n",
       "      <td>8.4</td>\n",
       "      <td>897000</td>\n",
       "      <td>Anthony Russo</td>\n",
       "      <td>Christopher Markus</td>\n",
       "      <td>Robert Downey Jr.</td>\n",
       "      <td>United States</td>\n",
       "      <td>321000000</td>\n",
       "      <td>2048359754</td>\n",
       "      <td>Marvel Studios</td>\n",
       "      <td>149</td>\n",
       "    </tr>\n",
       "  </tbody>\n",
       "</table>\n",
       "</div>"
      ],
      "text/plain": [
       "                                            name rating   genre  year  \\\n",
       "5445                                      Avatar  PG-13  Action  2009   \n",
       "7445                           Avengers: Endgame  PG-13  Action  2019   \n",
       "3045                                     Titanic  PG-13   Drama  1997   \n",
       "6663  Star Wars: Episode VII - The Force Awakens  PG-13  Action  2015   \n",
       "7244                      Avengers: Infinity War  PG-13  Action  2018   \n",
       "\n",
       "                               released  score    votes       director  \\\n",
       "5445  December 18, 2009 (United States)    7.8  1100000  James Cameron   \n",
       "7445     April 26, 2019 (United States)    8.4   903000  Anthony Russo   \n",
       "3045  December 19, 1997 (United States)    7.8  1100000  James Cameron   \n",
       "6663  December 18, 2015 (United States)    7.8   876000    J.J. Abrams   \n",
       "7244     April 27, 2018 (United States)    8.4   897000  Anthony Russo   \n",
       "\n",
       "                  writer               star        country     budget  \\\n",
       "5445       James Cameron    Sam Worthington  United States  237000000   \n",
       "7445  Christopher Markus  Robert Downey Jr.  United States  356000000   \n",
       "3045       James Cameron  Leonardo DiCaprio  United States  200000000   \n",
       "6663     Lawrence Kasdan       Daisy Ridley  United States  245000000   \n",
       "7244  Christopher Markus  Robert Downey Jr.  United States  321000000   \n",
       "\n",
       "           gross                company  runtime  \n",
       "5445  2847246203  Twentieth Century Fox      162  \n",
       "7445  2797501328         Marvel Studios      181  \n",
       "3045  2201647264  Twentieth Century Fox      194  \n",
       "6663  2069521700              Lucasfilm      138  \n",
       "7244  2048359754         Marvel Studios      149  "
      ]
     },
     "execution_count": 11,
     "metadata": {},
     "output_type": "execute_result"
    }
   ],
   "source": [
    "df.sort_values(by=['gross'], inplace=False, ascending=False).head()"
   ]
  },
  {
   "cell_type": "code",
   "execution_count": 12,
   "metadata": {
    "executionInfo": {
     "elapsed": 3,
     "status": "ok",
     "timestamp": 1645309225982,
     "user": {
      "displayName": "Simple World",
      "photoUrl": "https://lh3.googleusercontent.com/a-/AOh14GgiL5YAcNU3s17zKIZwsnXS23modtXA6kMjJ2q5=s64",
      "userId": "00442976011821015238"
     },
     "user_tz": -330
    },
    "id": "EPkqi4Cyx4vB"
   },
   "outputs": [],
   "source": [
    "pd.set_option('display.max_rows', None)"
   ]
  },
  {
   "cell_type": "code",
   "execution_count": null,
   "metadata": {
    "executionInfo": {
     "elapsed": 3,
     "status": "ok",
     "timestamp": 1645309225983,
     "user": {
      "displayName": "Simple World",
      "photoUrl": "https://lh3.googleusercontent.com/a-/AOh14GgiL5YAcNU3s17zKIZwsnXS23modtXA6kMjJ2q5=s64",
      "userId": "00442976011821015238"
     },
     "user_tz": -330
    },
    "id": "u-5QYHdaChOx"
   },
   "outputs": [],
   "source": []
  },
  {
   "cell_type": "code",
   "execution_count": 13,
   "metadata": {
    "colab": {
     "base_uri": "https://localhost:8080/",
     "height": 1000,
     "output_embedded_package_id": "1gsqLXSG3rfUy4-08IAjkMTy2zn46io-I"
    },
    "executionInfo": {
     "elapsed": 3880,
     "status": "ok",
     "timestamp": 1645309229860,
     "user": {
      "displayName": "Simple World",
      "photoUrl": "https://lh3.googleusercontent.com/a-/AOh14GgiL5YAcNU3s17zKIZwsnXS23modtXA6kMjJ2q5=s64",
      "userId": "00442976011821015238"
     },
     "user_tz": -330
    },
    "id": "gN0NvCPL0Foy",
    "outputId": "1e8d2e86-5711-4074-95ef-ecc496ca7cf1"
   },
   "outputs": [
    {
     "data": {
      "text/html": [
       "<div>\n",
       "<style scoped>\n",
       "    .dataframe tbody tr th:only-of-type {\n",
       "        vertical-align: middle;\n",
       "    }\n",
       "\n",
       "    .dataframe tbody tr th {\n",
       "        vertical-align: top;\n",
       "    }\n",
       "\n",
       "    .dataframe thead th {\n",
       "        text-align: right;\n",
       "    }\n",
       "</style>\n",
       "<table border=\"1\" class=\"dataframe\">\n",
       "  <thead>\n",
       "    <tr style=\"text-align: right;\">\n",
       "      <th></th>\n",
       "      <th>name</th>\n",
       "      <th>rating</th>\n",
       "      <th>genre</th>\n",
       "      <th>year</th>\n",
       "      <th>released</th>\n",
       "      <th>score</th>\n",
       "      <th>votes</th>\n",
       "      <th>director</th>\n",
       "      <th>writer</th>\n",
       "      <th>star</th>\n",
       "      <th>country</th>\n",
       "      <th>budget</th>\n",
       "      <th>gross</th>\n",
       "      <th>company</th>\n",
       "      <th>runtime</th>\n",
       "    </tr>\n",
       "  </thead>\n",
       "  <tbody>\n",
       "    <tr>\n",
       "      <th>0</th>\n",
       "      <td>The Shining</td>\n",
       "      <td>R</td>\n",
       "      <td>Drama</td>\n",
       "      <td>1980</td>\n",
       "      <td>June 13, 1980 (United States)</td>\n",
       "      <td>8.4</td>\n",
       "      <td>927000</td>\n",
       "      <td>Stanley Kubrick</td>\n",
       "      <td>Stephen King</td>\n",
       "      <td>Jack Nicholson</td>\n",
       "      <td>United Kingdom</td>\n",
       "      <td>19000000</td>\n",
       "      <td>46998772</td>\n",
       "      <td>Warner Bros.</td>\n",
       "      <td>146</td>\n",
       "    </tr>\n",
       "    <tr>\n",
       "      <th>1</th>\n",
       "      <td>The Blue Lagoon</td>\n",
       "      <td>R</td>\n",
       "      <td>Adventure</td>\n",
       "      <td>1980</td>\n",
       "      <td>July 2, 1980 (United States)</td>\n",
       "      <td>5.8</td>\n",
       "      <td>65000</td>\n",
       "      <td>Randal Kleiser</td>\n",
       "      <td>Henry De Vere Stacpoole</td>\n",
       "      <td>Brooke Shields</td>\n",
       "      <td>United States</td>\n",
       "      <td>4500000</td>\n",
       "      <td>58853106</td>\n",
       "      <td>Columbia Pictures</td>\n",
       "      <td>104</td>\n",
       "    </tr>\n",
       "    <tr>\n",
       "      <th>2</th>\n",
       "      <td>Star Wars: Episode V - The Empire Strikes Back</td>\n",
       "      <td>PG</td>\n",
       "      <td>Action</td>\n",
       "      <td>1980</td>\n",
       "      <td>June 20, 1980 (United States)</td>\n",
       "      <td>8.7</td>\n",
       "      <td>1200000</td>\n",
       "      <td>Irvin Kershner</td>\n",
       "      <td>Leigh Brackett</td>\n",
       "      <td>Mark Hamill</td>\n",
       "      <td>United States</td>\n",
       "      <td>18000000</td>\n",
       "      <td>538375067</td>\n",
       "      <td>Lucasfilm</td>\n",
       "      <td>124</td>\n",
       "    </tr>\n",
       "    <tr>\n",
       "      <th>3</th>\n",
       "      <td>Airplane!</td>\n",
       "      <td>PG</td>\n",
       "      <td>Comedy</td>\n",
       "      <td>1980</td>\n",
       "      <td>July 2, 1980 (United States)</td>\n",
       "      <td>7.7</td>\n",
       "      <td>221000</td>\n",
       "      <td>Jim Abrahams</td>\n",
       "      <td>Jim Abrahams</td>\n",
       "      <td>Robert Hays</td>\n",
       "      <td>United States</td>\n",
       "      <td>3500000</td>\n",
       "      <td>83453539</td>\n",
       "      <td>Paramount Pictures</td>\n",
       "      <td>88</td>\n",
       "    </tr>\n",
       "    <tr>\n",
       "      <th>4</th>\n",
       "      <td>Caddyshack</td>\n",
       "      <td>R</td>\n",
       "      <td>Comedy</td>\n",
       "      <td>1980</td>\n",
       "      <td>July 25, 1980 (United States)</td>\n",
       "      <td>7.3</td>\n",
       "      <td>108000</td>\n",
       "      <td>Harold Ramis</td>\n",
       "      <td>Brian Doyle-Murray</td>\n",
       "      <td>Chevy Chase</td>\n",
       "      <td>United States</td>\n",
       "      <td>6000000</td>\n",
       "      <td>39846344</td>\n",
       "      <td>Orion Pictures</td>\n",
       "      <td>98</td>\n",
       "    </tr>\n",
       "  </tbody>\n",
       "</table>\n",
       "</div>"
      ],
      "text/plain": [
       "                                             name rating      genre  year  \\\n",
       "0                                     The Shining      R      Drama  1980   \n",
       "1                                 The Blue Lagoon      R  Adventure  1980   \n",
       "2  Star Wars: Episode V - The Empire Strikes Back     PG     Action  1980   \n",
       "3                                       Airplane!     PG     Comedy  1980   \n",
       "4                                      Caddyshack      R     Comedy  1980   \n",
       "\n",
       "                        released  score    votes         director  \\\n",
       "0  June 13, 1980 (United States)    8.4   927000  Stanley Kubrick   \n",
       "1   July 2, 1980 (United States)    5.8    65000   Randal Kleiser   \n",
       "2  June 20, 1980 (United States)    8.7  1200000   Irvin Kershner   \n",
       "3   July 2, 1980 (United States)    7.7   221000     Jim Abrahams   \n",
       "4  July 25, 1980 (United States)    7.3   108000     Harold Ramis   \n",
       "\n",
       "                    writer            star         country    budget  \\\n",
       "0             Stephen King  Jack Nicholson  United Kingdom  19000000   \n",
       "1  Henry De Vere Stacpoole  Brooke Shields   United States   4500000   \n",
       "2           Leigh Brackett     Mark Hamill   United States  18000000   \n",
       "3             Jim Abrahams     Robert Hays   United States   3500000   \n",
       "4       Brian Doyle-Murray     Chevy Chase   United States   6000000   \n",
       "\n",
       "       gross             company  runtime  \n",
       "0   46998772        Warner Bros.      146  \n",
       "1   58853106   Columbia Pictures      104  \n",
       "2  538375067           Lucasfilm      124  \n",
       "3   83453539  Paramount Pictures       88  \n",
       "4   39846344      Orion Pictures       98  "
      ]
     },
     "execution_count": 13,
     "metadata": {},
     "output_type": "execute_result"
    }
   ],
   "source": [
    "# Drop any duplicates\n",
    "\n",
    "df.drop_duplicates().head()"
   ]
  },
  {
   "cell_type": "code",
   "execution_count": null,
   "metadata": {
    "executionInfo": {
     "elapsed": 18,
     "status": "ok",
     "timestamp": 1645309229861,
     "user": {
      "displayName": "Simple World",
      "photoUrl": "https://lh3.googleusercontent.com/a-/AOh14GgiL5YAcNU3s17zKIZwsnXS23modtXA6kMjJ2q5=s64",
      "userId": "00442976011821015238"
     },
     "user_tz": -330
    },
    "id": "BSwAcKI311zT"
   },
   "outputs": [],
   "source": []
  },
  {
   "cell_type": "markdown",
   "metadata": {
    "id": "G2QSa1iw2hwS"
   },
   "source": [
    "# **02. Finding Correlations in the Data -**"
   ]
  },
  {
   "cell_type": "markdown",
   "metadata": {
    "id": "z1YsxmM1Gev5"
   },
   "source": [
    "**Hypothesis 1:** Budget high correlation (more money spent, bring more money in)\n",
    "\n",
    "**Hypothesis 2:** Company high correlation (big companies bringing in more money)"
   ]
  },
  {
   "cell_type": "markdown",
   "metadata": {
    "id": "3XUh87RIvVkq"
   },
   "source": [
    "**Hypothesis 1 Testing: Budget of the Film vs Gross Earnings**"
   ]
  },
  {
   "cell_type": "code",
   "execution_count": 14,
   "metadata": {
    "colab": {
     "base_uri": "https://localhost:8080/",
     "height": 299
    },
    "executionInfo": {
     "elapsed": 17,
     "status": "ok",
     "timestamp": 1645309229861,
     "user": {
      "displayName": "Simple World",
      "photoUrl": "https://lh3.googleusercontent.com/a-/AOh14GgiL5YAcNU3s17zKIZwsnXS23modtXA6kMjJ2q5=s64",
      "userId": "00442976011821015238"
     },
     "user_tz": -330
    },
    "id": "Tk8WVIyUGcSg",
    "outputId": "4e477197-a394-49d9-e42d-86d1c89699fb"
   },
   "outputs": [
    {
     "data": {
      "image/png": "[encoded data removed]",
      "text/plain": [
       "<Figure size 864x576 with 1 Axes>"
      ]
     },
     "metadata": {
      "needs_background": "light"
     },
     "output_type": "display_data"
    }
   ],
   "source": [
    "# scatter plot with budget vs gross\n",
    "\n",
    "plt.scatter(x=df['budget'], y=df['gross'])\n",
    "\n",
    "plt.title('Budget vs Gross Earnings')\n",
    "\n",
    "plt.xlabel('Budget For Films in $')\n",
    "\n",
    "plt.ylabel('Gross Earnings in $')\n",
    "\n",
    "plt.show()"
   ]
  },
  {
   "cell_type": "code",
   "execution_count": 15,
   "metadata": {
    "executionInfo": {
     "elapsed": 17,
     "status": "ok",
     "timestamp": 1645309229862,
     "user": {
      "displayName": "Simple World",
      "photoUrl": "https://lh3.googleusercontent.com/a-/AOh14GgiL5YAcNU3s17zKIZwsnXS23modtXA6kMjJ2q5=s64",
      "userId": "00442976011821015238"
     },
     "user_tz": -330
    },
    "id": "eToNJfIaHk8I"
   },
   "outputs": [],
   "source": [
    "df.sort_values('budget', ascending=False,inplace=True)"
   ]
  },
  {
   "cell_type": "code",
   "execution_count": 16,
   "metadata": {
    "colab": {
     "base_uri": "https://localhost:8080/",
     "height": 190
    },
    "executionInfo": {
     "elapsed": 18,
     "status": "ok",
     "timestamp": 1645309229863,
     "user": {
      "displayName": "Simple World",
      "photoUrl": "https://lh3.googleusercontent.com/a-/AOh14GgiL5YAcNU3s17zKIZwsnXS23modtXA6kMjJ2q5=s64",
      "userId": "00442976011821015238"
     },
     "user_tz": -330
    },
    "id": "tiAXlvLoIM1P",
    "outputId": "97423a94-9459-407b-d3f9-9590b66ebfaa"
   },
   "outputs": [
    {
     "data": {
      "text/html": [
       "<div>\n",
       "<style scoped>\n",
       "    .dataframe tbody tr th:only-of-type {\n",
       "        vertical-align: middle;\n",
       "    }\n",
       "\n",
       "    .dataframe tbody tr th {\n",
       "        vertical-align: top;\n",
       "    }\n",
       "\n",
       "    .dataframe thead th {\n",
       "        text-align: right;\n",
       "    }\n",
       "</style>\n",
       "<table border=\"1\" class=\"dataframe\">\n",
       "  <thead>\n",
       "    <tr style=\"text-align: right;\">\n",
       "      <th></th>\n",
       "      <th>name</th>\n",
       "      <th>rating</th>\n",
       "      <th>genre</th>\n",
       "      <th>year</th>\n",
       "      <th>released</th>\n",
       "      <th>score</th>\n",
       "      <th>votes</th>\n",
       "      <th>director</th>\n",
       "      <th>writer</th>\n",
       "      <th>star</th>\n",
       "      <th>country</th>\n",
       "      <th>budget</th>\n",
       "      <th>gross</th>\n",
       "      <th>company</th>\n",
       "      <th>runtime</th>\n",
       "    </tr>\n",
       "  </thead>\n",
       "  <tbody>\n",
       "    <tr>\n",
       "      <th>7445</th>\n",
       "      <td>Avengers: Endgame</td>\n",
       "      <td>PG-13</td>\n",
       "      <td>Action</td>\n",
       "      <td>2019</td>\n",
       "      <td>April 26, 2019 (United States)</td>\n",
       "      <td>8.4</td>\n",
       "      <td>903000</td>\n",
       "      <td>Anthony Russo</td>\n",
       "      <td>Christopher Markus</td>\n",
       "      <td>Robert Downey Jr.</td>\n",
       "      <td>United States</td>\n",
       "      <td>356000000</td>\n",
       "      <td>2797501328</td>\n",
       "      <td>Marvel Studios</td>\n",
       "      <td>181</td>\n",
       "    </tr>\n",
       "    <tr>\n",
       "      <th>7244</th>\n",
       "      <td>Avengers: Infinity War</td>\n",
       "      <td>PG-13</td>\n",
       "      <td>Action</td>\n",
       "      <td>2018</td>\n",
       "      <td>April 27, 2018 (United States)</td>\n",
       "      <td>8.4</td>\n",
       "      <td>897000</td>\n",
       "      <td>Anthony Russo</td>\n",
       "      <td>Christopher Markus</td>\n",
       "      <td>Robert Downey Jr.</td>\n",
       "      <td>United States</td>\n",
       "      <td>321000000</td>\n",
       "      <td>2048359754</td>\n",
       "      <td>Marvel Studios</td>\n",
       "      <td>149</td>\n",
       "    </tr>\n",
       "  </tbody>\n",
       "</table>\n",
       "</div>"
      ],
      "text/plain": [
       "                        name rating   genre  year  \\\n",
       "7445       Avengers: Endgame  PG-13  Action  2019   \n",
       "7244  Avengers: Infinity War  PG-13  Action  2018   \n",
       "\n",
       "                            released  score   votes       director  \\\n",
       "7445  April 26, 2019 (United States)    8.4  903000  Anthony Russo   \n",
       "7244  April 27, 2018 (United States)    8.4  897000  Anthony Russo   \n",
       "\n",
       "                  writer               star        country     budget  \\\n",
       "7445  Christopher Markus  Robert Downey Jr.  United States  356000000   \n",
       "7244  Christopher Markus  Robert Downey Jr.  United States  321000000   \n",
       "\n",
       "           gross         company  runtime  \n",
       "7445  2797501328  Marvel Studios      181  \n",
       "7244  2048359754  Marvel Studios      149  "
      ]
     },
     "execution_count": 16,
     "metadata": {},
     "output_type": "execute_result"
    }
   ],
   "source": [
    "df.head(2)"
   ]
  },
  {
   "cell_type": "code",
   "execution_count": 17,
   "metadata": {
    "colab": {
     "base_uri": "https://localhost:8080/",
     "height": 293
    },
    "executionInfo": {
     "elapsed": 999,
     "status": "ok",
     "timestamp": 1645309230846,
     "user": {
      "displayName": "Simple World",
      "photoUrl": "https://lh3.googleusercontent.com/a-/AOh14GgiL5YAcNU3s17zKIZwsnXS23modtXA6kMjJ2q5=s64",
      "userId": "00442976011821015238"
     },
     "user_tz": -330
    },
    "id": "XHVj0L__Mg7K",
    "outputId": "4c46e2bf-9573-4bfc-81ce-f7477c540da1"
   },
   "outputs": [
    {
     "data": {
      "image/png": "[encoded data removed]",
      "text/plain": [
       "<Figure size 864x576 with 1 Axes>"
      ]
     },
     "metadata": {
      "needs_background": "light"
     },
     "output_type": "display_data"
    }
   ],
   "source": [
    "# PLot budget vs gross using seaborn (regression plot)\n",
    "\n",
    "sns.regplot(x='budget', y='gross', data=df, scatter_kws={'color':'red'}, line_kws={'color':'blue'})\n",
    "\n",
    "plt.show()"
   ]
  },
  {
   "cell_type": "markdown",
   "metadata": {
    "id": "BRjspt1yqfHO"
   },
   "source": [
    "*** Let's start looking at Correlation ***"
   ]
  },
  {
   "cell_type": "code",
   "execution_count": 18,
   "metadata": {
    "colab": {
     "base_uri": "https://localhost:8080/",
     "height": 238
    },
    "executionInfo": {
     "elapsed": 12,
     "status": "ok",
     "timestamp": 1645309230847,
     "user": {
      "displayName": "Simple World",
      "photoUrl": "https://lh3.googleusercontent.com/a-/AOh14GgiL5YAcNU3s17zKIZwsnXS23modtXA6kMjJ2q5=s64",
      "userId": "00442976011821015238"
     },
     "user_tz": -330
    },
    "id": "9EHKxtnvqt4s",
    "outputId": "86d6d9cc-7d4e-463a-ea86-c77e1cf94231"
   },
   "outputs": [
    {
     "data": {
      "text/html": [
       "<div>\n",
       "<style scoped>\n",
       "    .dataframe tbody tr th:only-of-type {\n",
       "        vertical-align: middle;\n",
       "    }\n",
       "\n",
       "    .dataframe tbody tr th {\n",
       "        vertical-align: top;\n",
       "    }\n",
       "\n",
       "    .dataframe thead th {\n",
       "        text-align: right;\n",
       "    }\n",
       "</style>\n",
       "<table border=\"1\" class=\"dataframe\">\n",
       "  <thead>\n",
       "    <tr style=\"text-align: right;\">\n",
       "      <th></th>\n",
       "      <th>year</th>\n",
       "      <th>score</th>\n",
       "      <th>votes</th>\n",
       "      <th>budget</th>\n",
       "      <th>gross</th>\n",
       "      <th>runtime</th>\n",
       "    </tr>\n",
       "  </thead>\n",
       "  <tbody>\n",
       "    <tr>\n",
       "      <th>year</th>\n",
       "      <td>1.000000</td>\n",
       "      <td>0.056386</td>\n",
       "      <td>0.206021</td>\n",
       "      <td>0.327722</td>\n",
       "      <td>0.274321</td>\n",
       "      <td>0.075077</td>\n",
       "    </tr>\n",
       "    <tr>\n",
       "      <th>score</th>\n",
       "      <td>0.056386</td>\n",
       "      <td>1.000000</td>\n",
       "      <td>0.474256</td>\n",
       "      <td>0.072001</td>\n",
       "      <td>0.222556</td>\n",
       "      <td>0.414068</td>\n",
       "    </tr>\n",
       "    <tr>\n",
       "      <th>votes</th>\n",
       "      <td>0.206021</td>\n",
       "      <td>0.474256</td>\n",
       "      <td>1.000000</td>\n",
       "      <td>0.439675</td>\n",
       "      <td>0.614751</td>\n",
       "      <td>0.352303</td>\n",
       "    </tr>\n",
       "    <tr>\n",
       "      <th>budget</th>\n",
       "      <td>0.327722</td>\n",
       "      <td>0.072001</td>\n",
       "      <td>0.439675</td>\n",
       "      <td>1.000000</td>\n",
       "      <td>0.740247</td>\n",
       "      <td>0.318695</td>\n",
       "    </tr>\n",
       "    <tr>\n",
       "      <th>gross</th>\n",
       "      <td>0.274321</td>\n",
       "      <td>0.222556</td>\n",
       "      <td>0.614751</td>\n",
       "      <td>0.740247</td>\n",
       "      <td>1.000000</td>\n",
       "      <td>0.275796</td>\n",
       "    </tr>\n",
       "    <tr>\n",
       "      <th>runtime</th>\n",
       "      <td>0.075077</td>\n",
       "      <td>0.414068</td>\n",
       "      <td>0.352303</td>\n",
       "      <td>0.318695</td>\n",
       "      <td>0.275796</td>\n",
       "      <td>1.000000</td>\n",
       "    </tr>\n",
       "  </tbody>\n",
       "</table>\n",
       "</div>"
      ],
      "text/plain": [
       "             year     score     votes    budget     gross   runtime\n",
       "year     1.000000  0.056386  0.206021  0.327722  0.274321  0.075077\n",
       "score    0.056386  1.000000  0.474256  0.072001  0.222556  0.414068\n",
       "votes    0.206021  0.474256  1.000000  0.439675  0.614751  0.352303\n",
       "budget   0.327722  0.072001  0.439675  1.000000  0.740247  0.318695\n",
       "gross    0.274321  0.222556  0.614751  0.740247  1.000000  0.275796\n",
       "runtime  0.075077  0.414068  0.352303  0.318695  0.275796  1.000000"
      ]
     },
     "execution_count": 18,
     "metadata": {},
     "output_type": "execute_result"
    }
   ],
   "source": [
    "df.corr(method = 'pearson')    # default regression method is pearson; kendall, spearman popular methods can also be used"
   ]
  },
  {
   "cell_type": "markdown",
   "metadata": {
    "id": "7raXGGJBrj78"
   },
   "source": [
    "Outliers: budget-gross & gross-votes\n",
    "\n",
    "Hypothesis 1: High correlation between budget and gross, I was right!"
   ]
  },
  {
   "cell_type": "markdown",
   "metadata": {
    "id": "LE-Q6hdIsMu6"
   },
   "source": [
    "**** Visualizing correlation matrix:***"
   ]
  },
  {
   "cell_type": "code",
   "execution_count": 19,
   "metadata": {
    "colab": {
     "base_uri": "https://localhost:8080/",
     "height": 299
    },
    "executionInfo": {
     "elapsed": 11,
     "status": "ok",
     "timestamp": 1645309230847,
     "user": {
      "displayName": "Simple World",
      "photoUrl": "https://lh3.googleusercontent.com/a-/AOh14GgiL5YAcNU3s17zKIZwsnXS23modtXA6kMjJ2q5=s64",
      "userId": "00442976011821015238"
     },
     "user_tz": -330
    },
    "id": "ftkzpS2rsere",
    "outputId": "72ac17af-cf41-410f-fbbc-90e161c60b3f"
   },
   "outputs": [
    {
     "data": {
      "image/png": "[encoded data removed]",
      "text/plain": [
       "<Figure size 864x576 with 2 Axes>"
      ]
     },
     "metadata": {
      "needs_background": "light"
     },
     "output_type": "display_data"
    }
   ],
   "source": [
    "correlation_matrix = df.corr(method = 'pearson')\n",
    "\n",
    "sns.heatmap(correlation_matrix, annot=True)\n",
    "\n",
    "plt.title('Correlation Matrix for Numeric Features')\n",
    "\n",
    "plt.xlabel('Movie Features')\n",
    "\n",
    "plt.ylabel('Movie Features')\n",
    "\n",
    "plt.show()"
   ]
  },
  {
   "cell_type": "markdown",
   "metadata": {
    "id": "t_bQr_qA7oai"
   },
   "source": [
    "*Hypothesis 1: High correlation between budget and gross, I was right!*"
   ]
  },
  {
   "cell_type": "markdown",
   "metadata": {
    "id": "sH9lFXbjv3Fx"
   },
   "source": [
    "**Hypothesis 2 Testing: Company vs Gross**"
   ]
  },
  {
   "cell_type": "code",
   "execution_count": 20,
   "metadata": {
    "colab": {
     "base_uri": "https://localhost:8080/",
     "height": 206
    },
    "executionInfo": {
     "elapsed": 11,
     "status": "ok",
     "timestamp": 1645309230847,
     "user": {
      "displayName": "Simple World",
      "photoUrl": "https://lh3.googleusercontent.com/a-/AOh14GgiL5YAcNU3s17zKIZwsnXS23modtXA6kMjJ2q5=s64",
      "userId": "00442976011821015238"
     },
     "user_tz": -330
    },
    "id": "jhC0_pk7tbdz",
    "outputId": "03edf68f-0e03-48c0-ea4a-5115ac412c75"
   },
   "outputs": [
    {
     "data": {
      "text/html": [
       "<div>\n",
       "<style scoped>\n",
       "    .dataframe tbody tr th:only-of-type {\n",
       "        vertical-align: middle;\n",
       "    }\n",
       "\n",
       "    .dataframe tbody tr th {\n",
       "        vertical-align: top;\n",
       "    }\n",
       "\n",
       "    .dataframe thead th {\n",
       "        text-align: right;\n",
       "    }\n",
       "</style>\n",
       "<table border=\"1\" class=\"dataframe\">\n",
       "  <thead>\n",
       "    <tr style=\"text-align: right;\">\n",
       "      <th></th>\n",
       "      <th>name</th>\n",
       "      <th>rating</th>\n",
       "      <th>genre</th>\n",
       "      <th>year</th>\n",
       "      <th>released</th>\n",
       "      <th>score</th>\n",
       "      <th>votes</th>\n",
       "      <th>director</th>\n",
       "      <th>writer</th>\n",
       "      <th>star</th>\n",
       "      <th>country</th>\n",
       "      <th>budget</th>\n",
       "      <th>gross</th>\n",
       "      <th>company</th>\n",
       "      <th>runtime</th>\n",
       "    </tr>\n",
       "  </thead>\n",
       "  <tbody>\n",
       "    <tr>\n",
       "      <th>7445</th>\n",
       "      <td>388</td>\n",
       "      <td>5</td>\n",
       "      <td>0</td>\n",
       "      <td>2019</td>\n",
       "      <td>137</td>\n",
       "      <td>8.4</td>\n",
       "      <td>903000</td>\n",
       "      <td>105</td>\n",
       "      <td>513</td>\n",
       "      <td>1470</td>\n",
       "      <td>47</td>\n",
       "      <td>356000000</td>\n",
       "      <td>2797501328</td>\n",
       "      <td>983</td>\n",
       "      <td>181</td>\n",
       "    </tr>\n",
       "    <tr>\n",
       "      <th>7244</th>\n",
       "      <td>389</td>\n",
       "      <td>5</td>\n",
       "      <td>0</td>\n",
       "      <td>2018</td>\n",
       "      <td>145</td>\n",
       "      <td>8.4</td>\n",
       "      <td>897000</td>\n",
       "      <td>105</td>\n",
       "      <td>513</td>\n",
       "      <td>1470</td>\n",
       "      <td>47</td>\n",
       "      <td>321000000</td>\n",
       "      <td>2048359754</td>\n",
       "      <td>983</td>\n",
       "      <td>149</td>\n",
       "    </tr>\n",
       "    <tr>\n",
       "      <th>7075</th>\n",
       "      <td>3644</td>\n",
       "      <td>5</td>\n",
       "      <td>0</td>\n",
       "      <td>2017</td>\n",
       "      <td>500</td>\n",
       "      <td>7.0</td>\n",
       "      <td>581000</td>\n",
       "      <td>1589</td>\n",
       "      <td>2487</td>\n",
       "      <td>356</td>\n",
       "      <td>47</td>\n",
       "      <td>317000000</td>\n",
       "      <td>1332698830</td>\n",
       "      <td>1423</td>\n",
       "      <td>152</td>\n",
       "    </tr>\n",
       "    <tr>\n",
       "      <th>7066</th>\n",
       "      <td>2124</td>\n",
       "      <td>5</td>\n",
       "      <td>0</td>\n",
       "      <td>2017</td>\n",
       "      <td>1996</td>\n",
       "      <td>6.1</td>\n",
       "      <td>418000</td>\n",
       "      <td>2057</td>\n",
       "      <td>1402</td>\n",
       "      <td>140</td>\n",
       "      <td>47</td>\n",
       "      <td>300000000</td>\n",
       "      <td>657926987</td>\n",
       "      <td>1426</td>\n",
       "      <td>120</td>\n",
       "    </tr>\n",
       "    <tr>\n",
       "      <th>5060</th>\n",
       "      <td>2987</td>\n",
       "      <td>5</td>\n",
       "      <td>0</td>\n",
       "      <td>2007</td>\n",
       "      <td>1844</td>\n",
       "      <td>7.1</td>\n",
       "      <td>608000</td>\n",
       "      <td>674</td>\n",
       "      <td>2927</td>\n",
       "      <td>889</td>\n",
       "      <td>47</td>\n",
       "      <td>300000000</td>\n",
       "      <td>960996492</td>\n",
       "      <td>1423</td>\n",
       "      <td>169</td>\n",
       "    </tr>\n",
       "  </tbody>\n",
       "</table>\n",
       "</div>"
      ],
      "text/plain": [
       "      name  rating  genre  year  released  score   votes  director  writer  \\\n",
       "7445   388       5      0  2019       137    8.4  903000       105     513   \n",
       "7244   389       5      0  2018       145    8.4  897000       105     513   \n",
       "7075  3644       5      0  2017       500    7.0  581000      1589    2487   \n",
       "7066  2124       5      0  2017      1996    6.1  418000      2057    1402   \n",
       "5060  2987       5      0  2007      1844    7.1  608000       674    2927   \n",
       "\n",
       "      star  country     budget       gross  company  runtime  \n",
       "7445  1470       47  356000000  2797501328      983      181  \n",
       "7244  1470       47  321000000  2048359754      983      149  \n",
       "7075   356       47  317000000  1332698830     1423      152  \n",
       "7066   140       47  300000000   657926987     1426      120  \n",
       "5060   889       47  300000000   960996492     1423      169  "
      ]
     },
     "execution_count": 20,
     "metadata": {},
     "output_type": "execute_result"
    }
   ],
   "source": [
    "df_numerized = df       # converting obj to numeric codes, eg. US will have an unique code, here '47', UK something else. This will let us perform Regression on these columns too!\n",
    "\n",
    "for col_name in df_numerized:\n",
    "  if (df_numerized[col_name].dtype == 'object'):\n",
    "    df_numerized[col_name] = df_numerized[col_name].astype('category')\n",
    "    df_numerized[col_name] = df_numerized[col_name].cat.codes\n",
    "\n",
    "df_numerized.head()"
   ]
  },
  {
   "cell_type": "code",
   "execution_count": null,
   "metadata": {
    "executionInfo": {
     "elapsed": 11,
     "status": "ok",
     "timestamp": 1645309230848,
     "user": {
      "displayName": "Simple World",
      "photoUrl": "https://lh3.googleusercontent.com/a-/AOh14GgiL5YAcNU3s17zKIZwsnXS23modtXA6kMjJ2q5=s64",
      "userId": "00442976011821015238"
     },
     "user_tz": -330
    },
    "id": "YaxBt5o62c08"
   },
   "outputs": [],
   "source": []
  },
  {
   "cell_type": "markdown",
   "metadata": {
    "id": "8rd4A0rG3mtd"
   },
   "source": [
    "*** Let's start looking at Correlation ***"
   ]
  },
  {
   "cell_type": "code",
   "execution_count": 21,
   "metadata": {
    "colab": {
     "base_uri": "https://localhost:8080/",
     "height": 335
    },
    "executionInfo": {
     "elapsed": 2515,
     "status": "ok",
     "timestamp": 1645309233352,
     "user": {
      "displayName": "Simple World",
      "photoUrl": "https://lh3.googleusercontent.com/a-/AOh14GgiL5YAcNU3s17zKIZwsnXS23modtXA6kMjJ2q5=s64",
      "userId": "00442976011821015238"
     },
     "user_tz": -330
    },
    "id": "Qj90UVKq3vNT",
    "outputId": "e0cb2d64-5376-456f-e8f4-6c1d5ba684c0"
   },
   "outputs": [
    {
     "data": {
      "image/png": "[encoded data removed]",
      "text/plain": [
       "<Figure size 864x576 with 2 Axes>"
      ]
     },
     "metadata": {
      "needs_background": "light"
     },
     "output_type": "display_data"
    }
   ],
   "source": [
    "correlation_matrix = df_numerized.corr(method = 'pearson')\n",
    "\n",
    "sns.heatmap(correlation_matrix, annot=True)\n",
    "\n",
    "plt.title('Correlation Matrix for Numeric Features')\n",
    "\n",
    "plt.xlabel('Movie Features')\n",
    "\n",
    "plt.ylabel('Movie Features')\n",
    "\n",
    "plt.show()"
   ]
  },
  {
   "cell_type": "code",
   "execution_count": 22,
   "metadata": {
    "colab": {
     "base_uri": "https://localhost:8080/",
     "height": 520
    },
    "executionInfo": {
     "elapsed": 28,
     "status": "ok",
     "timestamp": 1645309233352,
     "user": {
      "displayName": "Simple World",
      "photoUrl": "https://lh3.googleusercontent.com/a-/AOh14GgiL5YAcNU3s17zKIZwsnXS23modtXA6kMjJ2q5=s64",
      "userId": "00442976011821015238"
     },
     "user_tz": -330
    },
    "id": "7vyw_Zbx4CB0",
    "outputId": "afc097c4-22ec-48d9-dc17-87dbe6598088"
   },
   "outputs": [
    {
     "data": {
      "text/html": [
       "<div>\n",
       "<style scoped>\n",
       "    .dataframe tbody tr th:only-of-type {\n",
       "        vertical-align: middle;\n",
       "    }\n",
       "\n",
       "    .dataframe tbody tr th {\n",
       "        vertical-align: top;\n",
       "    }\n",
       "\n",
       "    .dataframe thead th {\n",
       "        text-align: right;\n",
       "    }\n",
       "</style>\n",
       "<table border=\"1\" class=\"dataframe\">\n",
       "  <thead>\n",
       "    <tr style=\"text-align: right;\">\n",
       "      <th></th>\n",
       "      <th>name</th>\n",
       "      <th>rating</th>\n",
       "      <th>genre</th>\n",
       "      <th>year</th>\n",
       "      <th>released</th>\n",
       "      <th>score</th>\n",
       "      <th>votes</th>\n",
       "      <th>director</th>\n",
       "      <th>writer</th>\n",
       "      <th>star</th>\n",
       "      <th>country</th>\n",
       "      <th>budget</th>\n",
       "      <th>gross</th>\n",
       "      <th>company</th>\n",
       "      <th>runtime</th>\n",
       "    </tr>\n",
       "  </thead>\n",
       "  <tbody>\n",
       "    <tr>\n",
       "      <th>name</th>\n",
       "      <td>1.000000</td>\n",
       "      <td>-0.029234</td>\n",
       "      <td>0.010996</td>\n",
       "      <td>0.025542</td>\n",
       "      <td>-0.006152</td>\n",
       "      <td>0.014450</td>\n",
       "      <td>0.012615</td>\n",
       "      <td>0.015246</td>\n",
       "      <td>0.012880</td>\n",
       "      <td>-0.006882</td>\n",
       "      <td>-0.025490</td>\n",
       "      <td>0.023392</td>\n",
       "      <td>0.005639</td>\n",
       "      <td>0.021697</td>\n",
       "      <td>0.010850</td>\n",
       "    </tr>\n",
       "    <tr>\n",
       "      <th>rating</th>\n",
       "      <td>-0.029234</td>\n",
       "      <td>1.000000</td>\n",
       "      <td>0.147796</td>\n",
       "      <td>0.019499</td>\n",
       "      <td>0.018083</td>\n",
       "      <td>0.065983</td>\n",
       "      <td>0.006031</td>\n",
       "      <td>0.014656</td>\n",
       "      <td>-0.003149</td>\n",
       "      <td>0.009196</td>\n",
       "      <td>0.008230</td>\n",
       "      <td>-0.203946</td>\n",
       "      <td>-0.181906</td>\n",
       "      <td>-0.092357</td>\n",
       "      <td>0.140792</td>\n",
       "    </tr>\n",
       "    <tr>\n",
       "      <th>genre</th>\n",
       "      <td>0.010996</td>\n",
       "      <td>0.147796</td>\n",
       "      <td>1.000000</td>\n",
       "      <td>-0.073167</td>\n",
       "      <td>0.022142</td>\n",
       "      <td>0.035106</td>\n",
       "      <td>-0.135990</td>\n",
       "      <td>-0.008553</td>\n",
       "      <td>0.017578</td>\n",
       "      <td>0.003341</td>\n",
       "      <td>-0.009164</td>\n",
       "      <td>-0.368523</td>\n",
       "      <td>-0.244101</td>\n",
       "      <td>-0.071334</td>\n",
       "      <td>-0.059237</td>\n",
       "    </tr>\n",
       "    <tr>\n",
       "      <th>year</th>\n",
       "      <td>0.025542</td>\n",
       "      <td>0.019499</td>\n",
       "      <td>-0.073167</td>\n",
       "      <td>1.000000</td>\n",
       "      <td>-0.001740</td>\n",
       "      <td>0.056386</td>\n",
       "      <td>0.206021</td>\n",
       "      <td>-0.038354</td>\n",
       "      <td>-0.025908</td>\n",
       "      <td>-0.032157</td>\n",
       "      <td>-0.066748</td>\n",
       "      <td>0.327722</td>\n",
       "      <td>0.274321</td>\n",
       "      <td>-0.014333</td>\n",
       "      <td>0.075077</td>\n",
       "    </tr>\n",
       "    <tr>\n",
       "      <th>released</th>\n",
       "      <td>-0.006152</td>\n",
       "      <td>0.018083</td>\n",
       "      <td>0.022142</td>\n",
       "      <td>-0.001740</td>\n",
       "      <td>1.000000</td>\n",
       "      <td>0.045874</td>\n",
       "      <td>0.028833</td>\n",
       "      <td>0.002308</td>\n",
       "      <td>0.008072</td>\n",
       "      <td>0.015706</td>\n",
       "      <td>-0.017228</td>\n",
       "      <td>0.019952</td>\n",
       "      <td>0.008501</td>\n",
       "      <td>-0.002407</td>\n",
       "      <td>0.008975</td>\n",
       "    </tr>\n",
       "    <tr>\n",
       "      <th>score</th>\n",
       "      <td>0.014450</td>\n",
       "      <td>0.065983</td>\n",
       "      <td>0.035106</td>\n",
       "      <td>0.056386</td>\n",
       "      <td>0.045874</td>\n",
       "      <td>1.000000</td>\n",
       "      <td>0.474256</td>\n",
       "      <td>0.005413</td>\n",
       "      <td>0.012843</td>\n",
       "      <td>0.007296</td>\n",
       "      <td>-0.043051</td>\n",
       "      <td>0.072001</td>\n",
       "      <td>0.222556</td>\n",
       "      <td>0.020656</td>\n",
       "      <td>0.414068</td>\n",
       "    </tr>\n",
       "    <tr>\n",
       "      <th>votes</th>\n",
       "      <td>0.012615</td>\n",
       "      <td>0.006031</td>\n",
       "      <td>-0.135990</td>\n",
       "      <td>0.206021</td>\n",
       "      <td>0.028833</td>\n",
       "      <td>0.474256</td>\n",
       "      <td>1.000000</td>\n",
       "      <td>-0.010376</td>\n",
       "      <td>-0.005316</td>\n",
       "      <td>-0.017638</td>\n",
       "      <td>0.041551</td>\n",
       "      <td>0.439675</td>\n",
       "      <td>0.614751</td>\n",
       "      <td>0.118470</td>\n",
       "      <td>0.352303</td>\n",
       "    </tr>\n",
       "    <tr>\n",
       "      <th>director</th>\n",
       "      <td>0.015246</td>\n",
       "      <td>0.014656</td>\n",
       "      <td>-0.008553</td>\n",
       "      <td>-0.038354</td>\n",
       "      <td>0.002308</td>\n",
       "      <td>0.005413</td>\n",
       "      <td>-0.010376</td>\n",
       "      <td>1.000000</td>\n",
       "      <td>0.261735</td>\n",
       "      <td>0.036593</td>\n",
       "      <td>0.011133</td>\n",
       "      <td>-0.009662</td>\n",
       "      <td>-0.029560</td>\n",
       "      <td>-0.008223</td>\n",
       "      <td>0.017433</td>\n",
       "    </tr>\n",
       "    <tr>\n",
       "      <th>writer</th>\n",
       "      <td>0.012880</td>\n",
       "      <td>-0.003149</td>\n",
       "      <td>0.017578</td>\n",
       "      <td>-0.025908</td>\n",
       "      <td>0.008072</td>\n",
       "      <td>0.012843</td>\n",
       "      <td>-0.005316</td>\n",
       "      <td>0.261735</td>\n",
       "      <td>1.000000</td>\n",
       "      <td>0.018520</td>\n",
       "      <td>0.022488</td>\n",
       "      <td>-0.039466</td>\n",
       "      <td>-0.035885</td>\n",
       "      <td>-0.003697</td>\n",
       "      <td>-0.017561</td>\n",
       "    </tr>\n",
       "    <tr>\n",
       "      <th>star</th>\n",
       "      <td>-0.006882</td>\n",
       "      <td>0.009196</td>\n",
       "      <td>0.003341</td>\n",
       "      <td>-0.032157</td>\n",
       "      <td>0.015706</td>\n",
       "      <td>0.007296</td>\n",
       "      <td>-0.017638</td>\n",
       "      <td>0.036593</td>\n",
       "      <td>0.018520</td>\n",
       "      <td>1.000000</td>\n",
       "      <td>-0.009990</td>\n",
       "      <td>-0.021473</td>\n",
       "      <td>-0.000004</td>\n",
       "      <td>0.014082</td>\n",
       "      <td>0.010108</td>\n",
       "    </tr>\n",
       "    <tr>\n",
       "      <th>country</th>\n",
       "      <td>-0.025490</td>\n",
       "      <td>0.008230</td>\n",
       "      <td>-0.009164</td>\n",
       "      <td>-0.066748</td>\n",
       "      <td>-0.017228</td>\n",
       "      <td>-0.043051</td>\n",
       "      <td>0.041551</td>\n",
       "      <td>0.011133</td>\n",
       "      <td>0.022488</td>\n",
       "      <td>-0.009990</td>\n",
       "      <td>1.000000</td>\n",
       "      <td>0.052977</td>\n",
       "      <td>0.060078</td>\n",
       "      <td>0.048569</td>\n",
       "      <td>-0.034477</td>\n",
       "    </tr>\n",
       "    <tr>\n",
       "      <th>budget</th>\n",
       "      <td>0.023392</td>\n",
       "      <td>-0.203946</td>\n",
       "      <td>-0.368523</td>\n",
       "      <td>0.327722</td>\n",
       "      <td>0.019952</td>\n",
       "      <td>0.072001</td>\n",
       "      <td>0.439675</td>\n",
       "      <td>-0.009662</td>\n",
       "      <td>-0.039466</td>\n",
       "      <td>-0.021473</td>\n",
       "      <td>0.052977</td>\n",
       "      <td>1.000000</td>\n",
       "      <td>0.740247</td>\n",
       "      <td>0.170235</td>\n",
       "      <td>0.318695</td>\n",
       "    </tr>\n",
       "    <tr>\n",
       "      <th>gross</th>\n",
       "      <td>0.005639</td>\n",
       "      <td>-0.181906</td>\n",
       "      <td>-0.244101</td>\n",
       "      <td>0.274321</td>\n",
       "      <td>0.008501</td>\n",
       "      <td>0.222556</td>\n",
       "      <td>0.614751</td>\n",
       "      <td>-0.029560</td>\n",
       "      <td>-0.035885</td>\n",
       "      <td>-0.000004</td>\n",
       "      <td>0.060078</td>\n",
       "      <td>0.740247</td>\n",
       "      <td>1.000000</td>\n",
       "      <td>0.149553</td>\n",
       "      <td>0.275796</td>\n",
       "    </tr>\n",
       "    <tr>\n",
       "      <th>company</th>\n",
       "      <td>0.021697</td>\n",
       "      <td>-0.092357</td>\n",
       "      <td>-0.071334</td>\n",
       "      <td>-0.014333</td>\n",
       "      <td>-0.002407</td>\n",
       "      <td>0.020656</td>\n",
       "      <td>0.118470</td>\n",
       "      <td>-0.008223</td>\n",
       "      <td>-0.003697</td>\n",
       "      <td>0.014082</td>\n",
       "      <td>0.048569</td>\n",
       "      <td>0.170235</td>\n",
       "      <td>0.149553</td>\n",
       "      <td>1.000000</td>\n",
       "      <td>0.037585</td>\n",
       "    </tr>\n",
       "    <tr>\n",
       "      <th>runtime</th>\n",
       "      <td>0.010850</td>\n",
       "      <td>0.140792</td>\n",
       "      <td>-0.059237</td>\n",
       "      <td>0.075077</td>\n",
       "      <td>0.008975</td>\n",
       "      <td>0.414068</td>\n",
       "      <td>0.352303</td>\n",
       "      <td>0.017433</td>\n",
       "      <td>-0.017561</td>\n",
       "      <td>0.010108</td>\n",
       "      <td>-0.034477</td>\n",
       "      <td>0.318695</td>\n",
       "      <td>0.275796</td>\n",
       "      <td>0.037585</td>\n",
       "      <td>1.000000</td>\n",
       "    </tr>\n",
       "  </tbody>\n",
       "</table>\n",
       "</div>"
      ],
      "text/plain": [
       "              name    rating     genre      year  released     score  \\\n",
       "name      1.000000 -0.029234  0.010996  0.025542 -0.006152  0.014450   \n",
       "rating   -0.029234  1.000000  0.147796  0.019499  0.018083  0.065983   \n",
       "genre     0.010996  0.147796  1.000000 -0.073167  0.022142  0.035106   \n",
       "year      0.025542  0.019499 -0.073167  1.000000 -0.001740  0.056386   \n",
       "released -0.006152  0.018083  0.022142 -0.001740  1.000000  0.045874   \n",
       "score     0.014450  0.065983  0.035106  0.056386  0.045874  1.000000   \n",
       "votes     0.012615  0.006031 -0.135990  0.206021  0.028833  0.474256   \n",
       "director  0.015246  0.014656 -0.008553 -0.038354  0.002308  0.005413   \n",
       "writer    0.012880 -0.003149  0.017578 -0.025908  0.008072  0.012843   \n",
       "star     -0.006882  0.009196  0.003341 -0.032157  0.015706  0.007296   \n",
       "country  -0.025490  0.008230 -0.009164 -0.066748 -0.017228 -0.043051   \n",
       "budget    0.023392 -0.203946 -0.368523  0.327722  0.019952  0.072001   \n",
       "gross     0.005639 -0.181906 -0.244101  0.274321  0.008501  0.222556   \n",
       "company   0.021697 -0.092357 -0.071334 -0.014333 -0.002407  0.020656   \n",
       "runtime   0.010850  0.140792 -0.059237  0.075077  0.008975  0.414068   \n",
       "\n",
       "             votes  director    writer      star   country    budget  \\\n",
       "name      0.012615  0.015246  0.012880 -0.006882 -0.025490  0.023392   \n",
       "rating    0.006031  0.014656 -0.003149  0.009196  0.008230 -0.203946   \n",
       "genre    -0.135990 -0.008553  0.017578  0.003341 -0.009164 -0.368523   \n",
       "year      0.206021 -0.038354 -0.025908 -0.032157 -0.066748  0.327722   \n",
       "released  0.028833  0.002308  0.008072  0.015706 -0.017228  0.019952   \n",
       "score     0.474256  0.005413  0.012843  0.007296 -0.043051  0.072001   \n",
       "votes     1.000000 -0.010376 -0.005316 -0.017638  0.041551  0.439675   \n",
       "director -0.010376  1.000000  0.261735  0.036593  0.011133 -0.009662   \n",
       "writer   -0.005316  0.261735  1.000000  0.018520  0.022488 -0.039466   \n",
       "star     -0.017638  0.036593  0.018520  1.000000 -0.009990 -0.021473   \n",
       "country   0.041551  0.011133  0.022488 -0.009990  1.000000  0.052977   \n",
       "budget    0.439675 -0.009662 -0.039466 -0.021473  0.052977  1.000000   \n",
       "gross     0.614751 -0.029560 -0.035885 -0.000004  0.060078  0.740247   \n",
       "company   0.118470 -0.008223 -0.003697  0.014082  0.048569  0.170235   \n",
       "runtime   0.352303  0.017433 -0.017561  0.010108 -0.034477  0.318695   \n",
       "\n",
       "             gross   company   runtime  \n",
       "name      0.005639  0.021697  0.010850  \n",
       "rating   -0.181906 -0.092357  0.140792  \n",
       "genre    -0.244101 -0.071334 -0.059237  \n",
       "year      0.274321 -0.014333  0.075077  \n",
       "released  0.008501 -0.002407  0.008975  \n",
       "score     0.222556  0.020656  0.414068  \n",
       "votes     0.614751  0.118470  0.352303  \n",
       "director -0.029560 -0.008223  0.017433  \n",
       "writer   -0.035885 -0.003697 -0.017561  \n",
       "star     -0.000004  0.014082  0.010108  \n",
       "country   0.060078  0.048569 -0.034477  \n",
       "budget    0.740247  0.170235  0.318695  \n",
       "gross     1.000000  0.149553  0.275796  \n",
       "company   0.149553  1.000000  0.037585  \n",
       "runtime   0.275796  0.037585  1.000000  "
      ]
     },
     "execution_count": 22,
     "metadata": {},
     "output_type": "execute_result"
    }
   ],
   "source": [
    "df_numerized.corr()     # default pearson"
   ]
  },
  {
   "cell_type": "code",
   "execution_count": 23,
   "metadata": {
    "executionInfo": {
     "elapsed": 25,
     "status": "ok",
     "timestamp": 1645309233353,
     "user": {
      "displayName": "Simple World",
      "photoUrl": "https://lh3.googleusercontent.com/a-/AOh14GgiL5YAcNU3s17zKIZwsnXS23modtXA6kMjJ2q5=s64",
      "userId": "00442976011821015238"
     },
     "user_tz": -330
    },
    "id": "bxuCHDmU4EGM"
   },
   "outputs": [],
   "source": [
    "# Unstacking"
   ]
  },
  {
   "cell_type": "code",
   "execution_count": 24,
   "metadata": {
    "colab": {
     "base_uri": "https://localhost:8080/"
    },
    "executionInfo": {
     "elapsed": 25,
     "status": "ok",
     "timestamp": 1645309233353,
     "user": {
      "displayName": "Simple World",
      "photoUrl": "https://lh3.googleusercontent.com/a-/AOh14GgiL5YAcNU3s17zKIZwsnXS23modtXA6kMjJ2q5=s64",
      "userId": "00442976011821015238"
     },
     "user_tz": -330
    },
    "id": "g-tz3rGr4cqs",
    "outputId": "cb843f98-5d39-41da-9dbf-7b16f9613d50"
   },
   "outputs": [
    {
     "data": {
      "text/plain": [
       "name    name        1.000000\n",
       "        rating     -0.029234\n",
       "        genre       0.010996\n",
       "        year        0.025542\n",
       "        released   -0.006152\n",
       "        score       0.014450\n",
       "        votes       0.012615\n",
       "        director    0.015246\n",
       "        writer      0.012880\n",
       "        star       -0.006882\n",
       "        country    -0.025490\n",
       "        budget      0.023392\n",
       "        gross       0.005639\n",
       "        company     0.021697\n",
       "        runtime     0.010850\n",
       "rating  name       -0.029234\n",
       "        rating      1.000000\n",
       "        genre       0.147796\n",
       "        year        0.019499\n",
       "        released    0.018083\n",
       "dtype: float64"
      ]
     },
     "execution_count": 24,
     "metadata": {},
     "output_type": "execute_result"
    }
   ],
   "source": [
    "correlation_mat = df_numerized.corr()\n",
    "\n",
    "corr_pairs = correlation_mat.unstack()\n",
    "\n",
    "corr_pairs.head(20)"
   ]
  },
  {
   "cell_type": "code",
   "execution_count": 25,
   "metadata": {
    "colab": {
     "base_uri": "https://localhost:8080/"
    },
    "executionInfo": {
     "elapsed": 23,
     "status": "ok",
     "timestamp": 1645309233354,
     "user": {
      "displayName": "Simple World",
      "photoUrl": "https://lh3.googleusercontent.com/a-/AOh14GgiL5YAcNU3s17zKIZwsnXS23modtXA6kMjJ2q5=s64",
      "userId": "00442976011821015238"
     },
     "user_tz": -330
    },
    "id": "QEPxOx9m5BQT",
    "outputId": "38c6e161-b8a3-42ef-be5c-258ff32f2664"
   },
   "outputs": [
    {
     "data": {
      "text/plain": [
       "budget   genre     -0.368523\n",
       "genre    budget    -0.368523\n",
       "         gross     -0.244101\n",
       "gross    genre     -0.244101\n",
       "budget   rating    -0.203946\n",
       "rating   budget    -0.203946\n",
       "         gross     -0.181906\n",
       "gross    rating    -0.181906\n",
       "genre    votes     -0.135990\n",
       "votes    genre     -0.135990\n",
       "company  rating    -0.092357\n",
       "rating   company   -0.092357\n",
       "genre    year      -0.073167\n",
       "year     genre     -0.073167\n",
       "genre    company   -0.071334\n",
       "company  genre     -0.071334\n",
       "year     country   -0.066748\n",
       "country  year      -0.066748\n",
       "genre    runtime   -0.059237\n",
       "runtime  genre     -0.059237\n",
       "dtype: float64"
      ]
     },
     "execution_count": 25,
     "metadata": {},
     "output_type": "execute_result"
    }
   ],
   "source": [
    "sorted_pairs = corr_pairs.sort_values()\n",
    "\n",
    "sorted_pairs.head(20)"
   ]
  },
  {
   "cell_type": "code",
   "execution_count": 26,
   "metadata": {
    "colab": {
     "base_uri": "https://localhost:8080/"
    },
    "executionInfo": {
     "elapsed": 19,
     "status": "ok",
     "timestamp": 1645309233354,
     "user": {
      "displayName": "Simple World",
      "photoUrl": "https://lh3.googleusercontent.com/a-/AOh14GgiL5YAcNU3s17zKIZwsnXS23modtXA6kMjJ2q5=s64",
      "userId": "00442976011821015238"
     },
     "user_tz": -330
    },
    "id": "ztw6MQXM6qB7",
    "outputId": "c3407ddc-1a07-4d03-8534-2eb9a9afd3b4"
   },
   "outputs": [
    {
     "data": {
      "text/plain": [
       "votes     gross       0.614751\n",
       "gross     votes       0.614751\n",
       "          budget      0.740247\n",
       "budget    gross       0.740247\n",
       "name      name        1.000000\n",
       "director  director    1.000000\n",
       "gross     gross       1.000000\n",
       "budget    budget      1.000000\n",
       "country   country     1.000000\n",
       "star      star        1.000000\n",
       "writer    writer      1.000000\n",
       "votes     votes       1.000000\n",
       "score     score       1.000000\n",
       "released  released    1.000000\n",
       "year      year        1.000000\n",
       "genre     genre       1.000000\n",
       "rating    rating      1.000000\n",
       "company   company     1.000000\n",
       "runtime   runtime     1.000000\n",
       "dtype: float64"
      ]
     },
     "execution_count": 26,
     "metadata": {},
     "output_type": "execute_result"
    }
   ],
   "source": [
    "high_corr = sorted_pairs[(sorted_pairs) > 0.5]\n",
    "\n",
    "high_corr"
   ]
  },
  {
   "cell_type": "code",
   "execution_count": null,
   "metadata": {
    "executionInfo": {
     "elapsed": 15,
     "status": "ok",
     "timestamp": 1645309233354,
     "user": {
      "displayName": "Simple World",
      "photoUrl": "https://lh3.googleusercontent.com/a-/AOh14GgiL5YAcNU3s17zKIZwsnXS23modtXA6kMjJ2q5=s64",
      "userId": "00442976011821015238"
     },
     "user_tz": -330
    },
    "id": "kI4Zx0gP65wy"
   },
   "outputs": [],
   "source": []
  },
  {
   "cell_type": "markdown",
   "metadata": {
    "id": "M1D08a7y8DDU"
   },
   "source": [
    "**Hypothesis 2: Low correlation between company and gross, I was Wrong.**"
   ]
  },
  {
   "cell_type": "markdown",
   "metadata": {
    "id": "E5DQbytC8Lrh"
   },
   "source": [
    "**Findings apart from hypothesis testing:** *High correlation between votes and gross earnings!*"
   ]
  }
 ],
 "metadata": {
  "colab": {
   "authorship_tag": "ABX9TyMidoHNNN9aggjemnrp1nI6",
   "collapsed_sections": [],
   "mount_file_id": "19niOv92xX67h0uoFHcv7pWcJBOJI-2i3",
   "name": "1. Movie Correlation Project in Python.ipynb",
   "provenance": []
  },
  "kernelspec": {
   "display_name": "Python 3",
   "language": "python",
   "name": "python3"
  },
  "language_info": {
   "codemirror_mode": {
    "name": "ipython",
    "version": 3
   },
   "file_extension": ".py",
   "mimetype": "text/x-python",
   "name": "python",
   "nbconvert_exporter": "python",
   "pygments_lexer": "ipython3",
   "version": "3.8.8"
  }
 },
 "nbformat": 4,
 "nbformat_minor": 1
}
